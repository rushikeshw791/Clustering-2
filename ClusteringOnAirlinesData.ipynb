{
  "nbformat": 4,
  "nbformat_minor": 0,
  "metadata": {
    "colab": {
      "provenance": [],
      "authorship_tag": "ABX9TyMnTBTIhe4AIyTYU+vhSt1S"
    },
    "kernelspec": {
      "name": "python3",
      "display_name": "Python 3"
    },
    "language_info": {
      "name": "python"
    }
  },
  "cells": [
    {
      "cell_type": "code",
      "execution_count": null,
      "metadata": {
        "id": "a-m_FOq-iblF"
      },
      "outputs": [],
      "source": [
        "import pandas as pd\n",
        "import numpy as np\n",
        "import seaborn as sns\n",
        "from matplotlib import pyplot as plt\n",
        "import scipy.cluster.hierarchy as sch\n",
        "from sklearn.cluster import AgglomerativeClustering"
      ]
    },
    {
      "cell_type": "code",
      "source": [
        "# Importing dataset\n",
        "data = pd.read_excel('https://github.com/rushikeshw791/Clustering-1/files/9793741/EastWestAirlines.xlsx',sheet_name='data')\n",
        "data.head()"
      ],
      "metadata": {
        "id": "YzebxRdMik_j"
      },
      "execution_count": null,
      "outputs": []
    },
    {
      "cell_type": "code",
      "source": [
        "# Column rename.\n",
        "data.rename(columns={'ID#':'ID', 'Award?':'Award'}, inplace=True)\n",
        "data.head()"
      ],
      "metadata": {
        "id": "_BWuN_VYixRA"
      },
      "execution_count": null,
      "outputs": []
    },
    {
      "cell_type": "code",
      "source": [
        "data.isna().sum()"
      ],
      "metadata": {
        "id": "p0NBnLbYjBGK"
      },
      "execution_count": null,
      "outputs": []
    },
    {
      "cell_type": "code",
      "source": [
        "data.duplicated().sum()"
      ],
      "metadata": {
        "id": "6fKO8iK1jehF"
      },
      "execution_count": null,
      "outputs": []
    },
    {
      "cell_type": "code",
      "source": [
        "data1=data.drop(labels='ID',axis=1)\n",
        "data1.head()"
      ],
      "metadata": {
        "id": "sakj-btijiox"
      },
      "execution_count": null,
      "outputs": []
    },
    {
      "cell_type": "code",
      "source": [
        "# correlation heatmap\n",
        "\n",
        "f,ax = plt.subplots(figsize=(18,12))\n",
        "sns.heatmap(data.corr(), annot=True, linewidths =.5, fmt ='.1f',ax=ax)\n",
        "plt.show()"
      ],
      "metadata": {
        "id": "TdibdHHGkQMx"
      },
      "execution_count": null,
      "outputs": []
    },
    {
      "cell_type": "markdown",
      "source": [
        "**Data preprocessing**\n",
        "\n",
        "1.Standardizing the data"
      ],
      "metadata": {
        "id": "DsrYkq7xk2gV"
      }
    },
    {
      "cell_type": "code",
      "source": [
        "from sklearn.preprocessing import StandardScaler,MinMaxScaler"
      ],
      "metadata": {
        "id": "mXmTb9lykko7"
      },
      "execution_count": null,
      "outputs": []
    },
    {
      "cell_type": "code",
      "source": [
        "standard_scaler = StandardScaler()\n",
        "std_df = standard_scaler.fit_transform(data1)\n",
        "std_df.shape"
      ],
      "metadata": {
        "id": "A0np-e2PlJ07"
      },
      "execution_count": null,
      "outputs": []
    },
    {
      "cell_type": "code",
      "source": [
        "plt.figure(figsize=(20,12))\n",
        "dendo = sch.dendrogram(sch.linkage(std_df,method='single'))"
      ],
      "metadata": {
        "id": "YF8MJAA4m4Q2"
      },
      "execution_count": null,
      "outputs": []
    },
    {
      "cell_type": "code",
      "source": [
        "plt.figure(figsize=(20,12))\n",
        "dendogram = sch.dendrogram(sch.linkage(std_df,method='complete'))"
      ],
      "metadata": {
        "id": "isdO9cDFnUxk"
      },
      "execution_count": null,
      "outputs": []
    },
    {
      "cell_type": "code",
      "source": [
        "plt.figure(figsize=(20,12))\n",
        "dendogram = sch.dendrogram(sch.linkage(std_df,method='average'))"
      ],
      "metadata": {
        "id": "-BPgR91VoT7n"
      },
      "execution_count": null,
      "outputs": []
    },
    {
      "cell_type": "code",
      "source": [
        "plt.figure(figsize=(20,12))\n",
        "dendogram = sch.dendrogram(sch.linkage(std_df,method='ward'))"
      ],
      "metadata": {
        "id": "4xPjNbX1ojRS"
      },
      "execution_count": null,
      "outputs": []
    },
    {
      "cell_type": "markdown",
      "source": [
        "2.Normalizing the data"
      ],
      "metadata": {
        "id": "uucwrRWhmQyl"
      }
    },
    {
      "cell_type": "code",
      "source": [
        "# Using Minmaxscaler for accuracy result comparison\n",
        "\n",
        "minmax = MinMaxScaler()\n",
        "\n",
        "minmax_df = minmax.fit_transform(data1)\n",
        "minmax_df.shape"
      ],
      "metadata": {
        "colab": {
          "base_uri": "https://localhost:8080/"
        },
        "id": "tAdtSpAolOFC",
        "outputId": "dcf5e5fd-c1d2-4e05-ff81-7c649268df2e"
      },
      "execution_count": null,
      "outputs": [
        {
          "output_type": "execute_result",
          "data": {
            "text/plain": [
              "(3999, 11)"
            ]
          },
          "metadata": {},
          "execution_count": 14
        }
      ]
    },
    {
      "cell_type": "code",
      "source": [
        "plt.figure(figsize=(20,12))\n",
        "dendogram = sch.dendrogram(sch.linkage(minmax_df,method='single'))"
      ],
      "metadata": {
        "id": "snwLq8yumimL"
      },
      "execution_count": null,
      "outputs": []
    },
    {
      "cell_type": "code",
      "source": [
        "plt.figure(figsize=(20,12))\n",
        "dendogram = sch.dendrogram(sch.linkage(minmax_df,method='complete'))"
      ],
      "metadata": {
        "id": "-UWC9KVRqwDJ"
      },
      "execution_count": null,
      "outputs": []
    },
    {
      "cell_type": "code",
      "source": [
        "plt.figure(figsize=(20,12))\n",
        "dendogram = sch.dendrogram(sch.linkage(minmax_df,method='average'))"
      ],
      "metadata": {
        "id": "H2UboqZdsOv2"
      },
      "execution_count": null,
      "outputs": []
    },
    {
      "cell_type": "code",
      "source": [
        "plt.figure(figsize=(20,12))\n",
        "dendogram = sch.dendrogram(sch.linkage(minmax_df,method='ward'))"
      ],
      "metadata": {
        "id": "UxueOF9WsqFZ"
      },
      "execution_count": null,
      "outputs": []
    },
    {
      "cell_type": "markdown",
      "source": [
        "**Create clusters (y)**"
      ],
      "metadata": {
        "id": "pNl2Np0VusCK"
      }
    },
    {
      "cell_type": "code",
      "source": [
        "hclusters=AgglomerativeClustering(n_clusters=5,affinity='euclidean',linkage='ward')\n",
        "hclusters"
      ],
      "metadata": {
        "id": "7GvE_wX3tGxG"
      },
      "execution_count": null,
      "outputs": []
    },
    {
      "cell_type": "code",
      "source": [
        "y_hc=hclusters.fit_predict(minmax_df)"
      ],
      "metadata": {
        "id": "eGYpWQ49u9dw"
      },
      "execution_count": null,
      "outputs": []
    },
    {
      "cell_type": "code",
      "source": [
        "y_hc"
      ],
      "metadata": {
        "colab": {
          "base_uri": "https://localhost:8080/"
        },
        "id": "Re6fq_jrvGth",
        "outputId": "902e5383-f711-4873-9088-d2dfd177eee3"
      },
      "execution_count": null,
      "outputs": [
        {
          "output_type": "execute_result",
          "data": {
            "text/plain": [
              "array([1, 1, 1, ..., 0, 4, 4])"
            ]
          },
          "metadata": {},
          "execution_count": 21
        }
      ]
    },
    {
      "cell_type": "code",
      "source": [
        "data['h_clusterid']=hclusters.labels_"
      ],
      "metadata": {
        "id": "w2eUBQrkvJZE"
      },
      "execution_count": null,
      "outputs": []
    },
    {
      "cell_type": "code",
      "source": [
        "data"
      ],
      "metadata": {
        "id": "3O37WBjsvtn9"
      },
      "execution_count": null,
      "outputs": []
    },
    {
      "cell_type": "code",
      "source": [
        "y=pd.DataFrame(hclusters.fit_predict(minmax_df),columns=['clusterid'])\n",
        "y['clusterid'].value_counts()"
      ],
      "metadata": {
        "id": "XUcyGMO1v127"
      },
      "execution_count": null,
      "outputs": []
    },
    {
      "cell_type": "code",
      "source": [
        "# adding clusters to the dataset\n",
        "data1['clusterid']=hclusters.labels_\n",
        "data1"
      ],
      "metadata": {
        "id": "Cqkmbd1BwT2p"
      },
      "execution_count": null,
      "outputs": []
    },
    {
      "cell_type": "code",
      "source": [
        "data1.groupby('clusterid').agg(['mean']).reset_index()"
      ],
      "metadata": {
        "id": "2HaKM4VywpsV"
      },
      "execution_count": null,
      "outputs": []
    },
    {
      "cell_type": "code",
      "source": [
        "# plot clusters\n",
        "plt.figure(figsize=(10,7))\n",
        "plt.scatter(data1['clusterid'],data1['Balance'],c=hclusters.labels_)"
      ],
      "metadata": {
        "id": "XjQwKc6aw6fX"
      },
      "execution_count": null,
      "outputs": []
    },
    {
      "cell_type": "markdown",
      "source": [
        "**K means**"
      ],
      "metadata": {
        "id": "AEu_FgKMyMdW"
      }
    },
    {
      "cell_type": "code",
      "source": [
        "from sklearn.cluster import KMeans\n",
        "from scipy.spatial.distance import cdist"
      ],
      "metadata": {
        "id": "EuXUDIMlxgDp"
      },
      "execution_count": null,
      "outputs": []
    },
    {
      "cell_type": "code",
      "source": [
        "airline1= pd.read_excel('https://github.com/rushikeshw791/Clustering-1/files/9793741/EastWestAirlines.xlsx',sheet_name='data')\n",
        "airline1.head()"
      ],
      "metadata": {
        "id": "ZmNuj2yo9D00"
      },
      "execution_count": null,
      "outputs": []
    },
    {
      "cell_type": "code",
      "source": [
        "#Normalized data fuction\n",
        "def norm_func(i):\n",
        "    x=(i-i.min())/(i.max()-i.min())\n",
        "    return(x)"
      ],
      "metadata": {
        "id": "jplcMFT9znkx"
      },
      "execution_count": null,
      "outputs": []
    },
    {
      "cell_type": "code",
      "source": [
        "df_norm = norm_func(airline1.iloc[:,1:])"
      ],
      "metadata": {
        "id": "5ZbbIdmv3D8a"
      },
      "execution_count": null,
      "outputs": []
    },
    {
      "cell_type": "code",
      "source": [
        "# Elbow curve\n",
        "wcss=[]\n",
        "for i in range(1,5):\n",
        "  kmeans=KMeans(n_clusters=i)\n",
        "  kmeans.fit(df_norm)\n",
        "  wcss.append(kmeans.inertia_)\n",
        "plt.plot(range(1,5),wcss)\n",
        "plt.title('Elbow Curve')\n",
        "plt.xlabel('Number of clusters')\n",
        "plt.ylabel('wcss')\n",
        "plt.show()"
      ],
      "metadata": {
        "id": "O_IDIoX_3Qe0"
      },
      "execution_count": null,
      "outputs": []
    },
    {
      "cell_type": "code",
      "source": [
        "# select 4 clusters from above plot\n",
        "model=KMeans(n_clusters=4)\n",
        "model.fit(df_norm)\n",
        "model.labels_"
      ],
      "metadata": {
        "colab": {
          "base_uri": "https://localhost:8080/"
        },
        "id": "dh5nek4L4Lus",
        "outputId": "fff6f839-60df-4616-8d0f-3a729d041127"
      },
      "execution_count": null,
      "outputs": [
        {
          "output_type": "execute_result",
          "data": {
            "text/plain": [
              "array([0, 0, 0, ..., 3, 0, 0], dtype=int32)"
            ]
          },
          "metadata": {},
          "execution_count": 33
        }
      ]
    },
    {
      "cell_type": "code",
      "source": [
        "x=pd.Series(model.labels_)\n",
        "airline1['Clust']=x"
      ],
      "metadata": {
        "id": "FpzoASI44k-y"
      },
      "execution_count": null,
      "outputs": []
    },
    {
      "cell_type": "code",
      "source": [
        "airline1"
      ],
      "metadata": {
        "id": "9dEMO96Q4-F-"
      },
      "execution_count": null,
      "outputs": []
    },
    {
      "cell_type": "markdown",
      "source": [
        "**DBSCAN**"
      ],
      "metadata": {
        "id": "YTzRxWCM5FGN"
      }
    },
    {
      "cell_type": "code",
      "source": [
        "from sklearn.cluster import DBSCAN"
      ],
      "metadata": {
        "id": "lgpSdiHl4_ot"
      },
      "execution_count": null,
      "outputs": []
    },
    {
      "cell_type": "code",
      "source": [
        "from sklearn.preprocessing import StandardScaler"
      ],
      "metadata": {
        "id": "EKdyGRVD5tr2"
      },
      "execution_count": null,
      "outputs": []
    },
    {
      "cell_type": "code",
      "source": [
        "airline2 = pd.read_excel('https://github.com/rushikeshw791/Clustering-1/files/9793741/EastWestAirlines.xlsx',sheet_name='data')\n",
        "airline2.head()"
      ],
      "metadata": {
        "id": "aBsVxiYc6Nyx"
      },
      "execution_count": null,
      "outputs": []
    },
    {
      "cell_type": "code",
      "source": [
        "airline2.info()"
      ],
      "metadata": {
        "id": "qUfmUnPf6UPb"
      },
      "execution_count": null,
      "outputs": []
    },
    {
      "cell_type": "code",
      "source": [
        "df=airline2.iloc[:,1:5]"
      ],
      "metadata": {
        "id": "DKQEeXP96c7q"
      },
      "execution_count": null,
      "outputs": []
    },
    {
      "cell_type": "code",
      "source": [
        "df.values"
      ],
      "metadata": {
        "id": "P99H68Vv6vID"
      },
      "execution_count": null,
      "outputs": []
    },
    {
      "cell_type": "code",
      "source": [
        "stscaler=StandardScaler().fit(df.values)\n",
        "x=stscaler.transform(df.values)"
      ],
      "metadata": {
        "id": "k7Q-Ci8w6xd0"
      },
      "execution_count": null,
      "outputs": []
    },
    {
      "cell_type": "code",
      "source": [
        "x"
      ],
      "metadata": {
        "id": "teUdnnPd7wmQ"
      },
      "execution_count": null,
      "outputs": []
    },
    {
      "cell_type": "code",
      "source": [
        "dbscan=DBSCAN(eps=2,min_samples=5)\n",
        "dbscan.fit(x)"
      ],
      "metadata": {
        "id": "9fv4i5jl79eU"
      },
      "execution_count": null,
      "outputs": []
    },
    {
      "cell_type": "code",
      "source": [
        "dbscan.labels_"
      ],
      "metadata": {
        "id": "vDdjfk7Z8OH_"
      },
      "execution_count": null,
      "outputs": []
    },
    {
      "cell_type": "code",
      "source": [
        "c1=pd.DataFrame(dbscan.labels_,columns=['cluster'])"
      ],
      "metadata": {
        "id": "U5Izhsb88Yyn"
      },
      "execution_count": null,
      "outputs": []
    },
    {
      "cell_type": "code",
      "source": [
        "c1"
      ],
      "metadata": {
        "id": "TLJcoViU8miU"
      },
      "execution_count": null,
      "outputs": []
    },
    {
      "cell_type": "code",
      "source": [
        "pd.concat([airline2,c1],axis=1)"
      ],
      "metadata": {
        "id": "_dktD5Ij8ngX"
      },
      "execution_count": null,
      "outputs": []
    }
  ]
}